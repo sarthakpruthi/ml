{
 "cells": [
  {
   "cell_type": "code",
   "execution_count": 133,
   "metadata": {},
   "outputs": [],
   "source": [
    "import pandas as pd"
   ]
  },
  {
   "cell_type": "code",
   "execution_count": 134,
   "metadata": {},
   "outputs": [],
   "source": [
    "from sklearn.datasets import load_iris"
   ]
  },
  {
   "cell_type": "code",
   "execution_count": 136,
   "metadata": {},
   "outputs": [
    {
     "data": {
      "text/plain": [
       "['DESCR', 'data', 'feature_names', 'filename', 'target', 'target_names']"
      ]
     },
     "execution_count": 136,
     "metadata": {},
     "output_type": "execute_result"
    }
   ],
   "source": [
    "d=load_iris()\n",
    "dir(d)"
   ]
  },
  {
   "cell_type": "code",
   "execution_count": 139,
   "metadata": {},
   "outputs": [
    {
     "data": {
      "text/html": [
       "<div>\n",
       "<style scoped>\n",
       "    .dataframe tbody tr th:only-of-type {\n",
       "        vertical-align: middle;\n",
       "    }\n",
       "\n",
       "    .dataframe tbody tr th {\n",
       "        vertical-align: top;\n",
       "    }\n",
       "\n",
       "    .dataframe thead th {\n",
       "        text-align: right;\n",
       "    }\n",
       "</style>\n",
       "<table border=\"1\" class=\"dataframe\">\n",
       "  <thead>\n",
       "    <tr style=\"text-align: right;\">\n",
       "      <th></th>\n",
       "      <th>sepal length (cm)</th>\n",
       "      <th>sepal width (cm)</th>\n",
       "      <th>petal length (cm)</th>\n",
       "      <th>petal width (cm)</th>\n",
       "    </tr>\n",
       "  </thead>\n",
       "  <tbody>\n",
       "    <tr>\n",
       "      <th>0</th>\n",
       "      <td>5.1</td>\n",
       "      <td>3.5</td>\n",
       "      <td>1.4</td>\n",
       "      <td>0.2</td>\n",
       "    </tr>\n",
       "    <tr>\n",
       "      <th>1</th>\n",
       "      <td>4.9</td>\n",
       "      <td>3.0</td>\n",
       "      <td>1.4</td>\n",
       "      <td>0.2</td>\n",
       "    </tr>\n",
       "    <tr>\n",
       "      <th>2</th>\n",
       "      <td>4.7</td>\n",
       "      <td>3.2</td>\n",
       "      <td>1.3</td>\n",
       "      <td>0.2</td>\n",
       "    </tr>\n",
       "    <tr>\n",
       "      <th>3</th>\n",
       "      <td>4.6</td>\n",
       "      <td>3.1</td>\n",
       "      <td>1.5</td>\n",
       "      <td>0.2</td>\n",
       "    </tr>\n",
       "    <tr>\n",
       "      <th>4</th>\n",
       "      <td>5.0</td>\n",
       "      <td>3.6</td>\n",
       "      <td>1.4</td>\n",
       "      <td>0.2</td>\n",
       "    </tr>\n",
       "  </tbody>\n",
       "</table>\n",
       "</div>"
      ],
      "text/plain": [
       "   sepal length (cm)  sepal width (cm)  petal length (cm)  petal width (cm)\n",
       "0                5.1               3.5                1.4               0.2\n",
       "1                4.9               3.0                1.4               0.2\n",
       "2                4.7               3.2                1.3               0.2\n",
       "3                4.6               3.1                1.5               0.2\n",
       "4                5.0               3.6                1.4               0.2"
      ]
     },
     "execution_count": 139,
     "metadata": {},
     "output_type": "execute_result"
    }
   ],
   "source": [
    "df=pd.DataFrame(d.data,columns=d.feature_names)\n",
    "df.head()"
   ]
  },
  {
   "cell_type": "code",
   "execution_count": 161,
   "metadata": {},
   "outputs": [
    {
     "data": {
      "text/plain": [
       "KMeans(algorithm='auto', copy_x=True, init='k-means++', max_iter=300,\n",
       "       n_clusters=3, n_init=10, n_jobs=None, precompute_distances='auto',\n",
       "       random_state=None, tol=0.0001, verbose=0)"
      ]
     },
     "execution_count": 161,
     "metadata": {},
     "output_type": "execute_result"
    }
   ],
   "source": [
    "from sklearn.cluster import KMeans\n",
    "km=KMeans(n_clusters=3)\n",
    "km"
   ]
  },
  {
   "cell_type": "code",
   "execution_count": 170,
   "metadata": {},
   "outputs": [],
   "source": [
    "dreq=df[[\"petal length (cm)\",\"petal width (cm)\"]]"
   ]
  },
  {
   "cell_type": "code",
   "execution_count": 173,
   "metadata": {},
   "outputs": [
    {
     "data": {
      "text/plain": [
       "array([[0.06779661, 0.04166667],\n",
       "       [0.06779661, 0.04166667],\n",
       "       [0.05084746, 0.04166667],\n",
       "       [0.08474576, 0.04166667],\n",
       "       [0.06779661, 0.04166667],\n",
       "       [0.11864407, 0.125     ],\n",
       "       [0.06779661, 0.08333333],\n",
       "       [0.08474576, 0.04166667],\n",
       "       [0.06779661, 0.04166667],\n",
       "       [0.08474576, 0.        ],\n",
       "       [0.08474576, 0.04166667],\n",
       "       [0.10169492, 0.04166667],\n",
       "       [0.06779661, 0.        ],\n",
       "       [0.01694915, 0.        ],\n",
       "       [0.03389831, 0.04166667],\n",
       "       [0.08474576, 0.125     ],\n",
       "       [0.05084746, 0.125     ],\n",
       "       [0.06779661, 0.08333333],\n",
       "       [0.11864407, 0.08333333],\n",
       "       [0.08474576, 0.08333333],\n",
       "       [0.11864407, 0.04166667],\n",
       "       [0.08474576, 0.125     ],\n",
       "       [0.        , 0.04166667],\n",
       "       [0.11864407, 0.16666667],\n",
       "       [0.15254237, 0.04166667],\n",
       "       [0.10169492, 0.04166667],\n",
       "       [0.10169492, 0.125     ],\n",
       "       [0.08474576, 0.04166667],\n",
       "       [0.06779661, 0.04166667],\n",
       "       [0.10169492, 0.04166667],\n",
       "       [0.10169492, 0.04166667],\n",
       "       [0.08474576, 0.125     ],\n",
       "       [0.08474576, 0.        ],\n",
       "       [0.06779661, 0.04166667],\n",
       "       [0.08474576, 0.04166667],\n",
       "       [0.03389831, 0.04166667],\n",
       "       [0.05084746, 0.04166667],\n",
       "       [0.06779661, 0.        ],\n",
       "       [0.05084746, 0.04166667],\n",
       "       [0.08474576, 0.04166667],\n",
       "       [0.05084746, 0.08333333],\n",
       "       [0.05084746, 0.08333333],\n",
       "       [0.05084746, 0.04166667],\n",
       "       [0.10169492, 0.20833333],\n",
       "       [0.15254237, 0.125     ],\n",
       "       [0.06779661, 0.08333333],\n",
       "       [0.10169492, 0.04166667],\n",
       "       [0.06779661, 0.04166667],\n",
       "       [0.08474576, 0.04166667],\n",
       "       [0.06779661, 0.04166667],\n",
       "       [0.62711864, 0.54166667],\n",
       "       [0.59322034, 0.58333333],\n",
       "       [0.66101695, 0.58333333],\n",
       "       [0.50847458, 0.5       ],\n",
       "       [0.61016949, 0.58333333],\n",
       "       [0.59322034, 0.5       ],\n",
       "       [0.62711864, 0.625     ],\n",
       "       [0.38983051, 0.375     ],\n",
       "       [0.61016949, 0.5       ],\n",
       "       [0.49152542, 0.54166667],\n",
       "       [0.42372881, 0.375     ],\n",
       "       [0.54237288, 0.58333333],\n",
       "       [0.50847458, 0.375     ],\n",
       "       [0.62711864, 0.54166667],\n",
       "       [0.44067797, 0.5       ],\n",
       "       [0.57627119, 0.54166667],\n",
       "       [0.59322034, 0.58333333],\n",
       "       [0.52542373, 0.375     ],\n",
       "       [0.59322034, 0.58333333],\n",
       "       [0.49152542, 0.41666667],\n",
       "       [0.6440678 , 0.70833333],\n",
       "       [0.50847458, 0.5       ],\n",
       "       [0.66101695, 0.58333333],\n",
       "       [0.62711864, 0.45833333],\n",
       "       [0.55932203, 0.5       ],\n",
       "       [0.57627119, 0.54166667],\n",
       "       [0.6440678 , 0.54166667],\n",
       "       [0.6779661 , 0.66666667],\n",
       "       [0.59322034, 0.58333333],\n",
       "       [0.42372881, 0.375     ],\n",
       "       [0.47457627, 0.41666667],\n",
       "       [0.45762712, 0.375     ],\n",
       "       [0.49152542, 0.45833333],\n",
       "       [0.69491525, 0.625     ],\n",
       "       [0.59322034, 0.58333333],\n",
       "       [0.59322034, 0.625     ],\n",
       "       [0.62711864, 0.58333333],\n",
       "       [0.57627119, 0.5       ],\n",
       "       [0.52542373, 0.5       ],\n",
       "       [0.50847458, 0.5       ],\n",
       "       [0.57627119, 0.45833333],\n",
       "       [0.61016949, 0.54166667],\n",
       "       [0.50847458, 0.45833333],\n",
       "       [0.38983051, 0.375     ],\n",
       "       [0.54237288, 0.5       ],\n",
       "       [0.54237288, 0.45833333],\n",
       "       [0.54237288, 0.5       ],\n",
       "       [0.55932203, 0.5       ],\n",
       "       [0.33898305, 0.41666667],\n",
       "       [0.52542373, 0.5       ],\n",
       "       [0.84745763, 1.        ],\n",
       "       [0.69491525, 0.75      ],\n",
       "       [0.83050847, 0.83333333],\n",
       "       [0.77966102, 0.70833333],\n",
       "       [0.81355932, 0.875     ],\n",
       "       [0.94915254, 0.83333333],\n",
       "       [0.59322034, 0.66666667],\n",
       "       [0.89830508, 0.70833333],\n",
       "       [0.81355932, 0.70833333],\n",
       "       [0.86440678, 1.        ],\n",
       "       [0.69491525, 0.79166667],\n",
       "       [0.72881356, 0.75      ],\n",
       "       [0.76271186, 0.83333333],\n",
       "       [0.6779661 , 0.79166667],\n",
       "       [0.69491525, 0.95833333],\n",
       "       [0.72881356, 0.91666667],\n",
       "       [0.76271186, 0.70833333],\n",
       "       [0.96610169, 0.875     ],\n",
       "       [1.        , 0.91666667],\n",
       "       [0.6779661 , 0.58333333],\n",
       "       [0.79661017, 0.91666667],\n",
       "       [0.66101695, 0.79166667],\n",
       "       [0.96610169, 0.79166667],\n",
       "       [0.66101695, 0.70833333],\n",
       "       [0.79661017, 0.83333333],\n",
       "       [0.84745763, 0.70833333],\n",
       "       [0.6440678 , 0.70833333],\n",
       "       [0.66101695, 0.70833333],\n",
       "       [0.77966102, 0.83333333],\n",
       "       [0.81355932, 0.625     ],\n",
       "       [0.86440678, 0.75      ],\n",
       "       [0.91525424, 0.79166667],\n",
       "       [0.77966102, 0.875     ],\n",
       "       [0.69491525, 0.58333333],\n",
       "       [0.77966102, 0.54166667],\n",
       "       [0.86440678, 0.91666667],\n",
       "       [0.77966102, 0.95833333],\n",
       "       [0.76271186, 0.70833333],\n",
       "       [0.6440678 , 0.70833333],\n",
       "       [0.74576271, 0.83333333],\n",
       "       [0.77966102, 0.95833333],\n",
       "       [0.69491525, 0.91666667],\n",
       "       [0.69491525, 0.75      ],\n",
       "       [0.83050847, 0.91666667],\n",
       "       [0.79661017, 1.        ],\n",
       "       [0.71186441, 0.91666667],\n",
       "       [0.6779661 , 0.75      ],\n",
       "       [0.71186441, 0.79166667],\n",
       "       [0.74576271, 0.91666667],\n",
       "       [0.69491525, 0.70833333]])"
      ]
     },
     "execution_count": 173,
     "metadata": {},
     "output_type": "execute_result"
    }
   ],
   "source": [
    "from sklearn.preprocessing import MinMaxScaler\n",
    "sc=MinMaxScaler()\n",
    "sc.fit_transform(dreq)"
   ]
  },
  {
   "cell_type": "code",
   "execution_count": 176,
   "metadata": {},
   "outputs": [],
   "source": [
    "sse=[]\n",
    "for  i in range(1,10):\n",
    "    km=KMeans(n_clusters=i)\n",
    "    km.fit(dreq)\n",
    "    sse.append(km.inertia_)"
   ]
  },
  {
   "cell_type": "code",
   "execution_count": 177,
   "metadata": {},
   "outputs": [
    {
     "data": {
      "text/plain": [
       "[<matplotlib.lines.Line2D at 0x26585fd01d0>]"
      ]
     },
     "execution_count": 177,
     "metadata": {},
     "output_type": "execute_result"
    },
    {
     "data": {
      "image/png": "[encoded data removed]",
      "text/plain": [
       "<Figure size 432x288 with 1 Axes>"
      ]
     },
     "metadata": {
      "needs_background": "light"
     },
     "output_type": "display_data"
    }
   ],
   "source": [
    "plt.plot(range(1,10),sse)"
   ]
  },
  {
   "cell_type": "code",
   "execution_count": 178,
   "metadata": {},
   "outputs": [],
   "source": [
    "#so we take k=3"
   ]
  },
  {
   "cell_type": "code",
   "execution_count": 181,
   "metadata": {},
   "outputs": [
    {
     "name": "stderr",
     "output_type": "stream",
     "text": [
      "C:\\ProgramData\\Anaconda3\\lib\\site-packages\\ipykernel_launcher.py:2: SettingWithCopyWarning: \n",
      "A value is trying to be set on a copy of a slice from a DataFrame.\n",
      "Try using .loc[row_indexer,col_indexer] = value instead\n",
      "\n",
      "See the caveats in the documentation: http://pandas.pydata.org/pandas-docs/stable/user_guide/indexing.html#returning-a-view-versus-a-copy\n",
      "  \n"
     ]
    },
    {
     "data": {
      "text/html": [
       "<div>\n",
       "<style scoped>\n",
       "    .dataframe tbody tr th:only-of-type {\n",
       "        vertical-align: middle;\n",
       "    }\n",
       "\n",
       "    .dataframe tbody tr th {\n",
       "        vertical-align: top;\n",
       "    }\n",
       "\n",
       "    .dataframe thead th {\n",
       "        text-align: right;\n",
       "    }\n",
       "</style>\n",
       "<table border=\"1\" class=\"dataframe\">\n",
       "  <thead>\n",
       "    <tr style=\"text-align: right;\">\n",
       "      <th></th>\n",
       "      <th>petal length (cm)</th>\n",
       "      <th>petal width (cm)</th>\n",
       "      <th>flower</th>\n",
       "    </tr>\n",
       "  </thead>\n",
       "  <tbody>\n",
       "    <tr>\n",
       "      <th>0</th>\n",
       "      <td>1.4</td>\n",
       "      <td>0.2</td>\n",
       "      <td>1</td>\n",
       "    </tr>\n",
       "    <tr>\n",
       "      <th>1</th>\n",
       "      <td>1.4</td>\n",
       "      <td>0.2</td>\n",
       "      <td>1</td>\n",
       "    </tr>\n",
       "    <tr>\n",
       "      <th>2</th>\n",
       "      <td>1.3</td>\n",
       "      <td>0.2</td>\n",
       "      <td>1</td>\n",
       "    </tr>\n",
       "    <tr>\n",
       "      <th>3</th>\n",
       "      <td>1.5</td>\n",
       "      <td>0.2</td>\n",
       "      <td>1</td>\n",
       "    </tr>\n",
       "    <tr>\n",
       "      <th>4</th>\n",
       "      <td>1.4</td>\n",
       "      <td>0.2</td>\n",
       "      <td>1</td>\n",
       "    </tr>\n",
       "  </tbody>\n",
       "</table>\n",
       "</div>"
      ],
      "text/plain": [
       "   petal length (cm)  petal width (cm)  flower\n",
       "0                1.4               0.2       1\n",
       "1                1.4               0.2       1\n",
       "2                1.3               0.2       1\n",
       "3                1.5               0.2       1\n",
       "4                1.4               0.2       1"
      ]
     },
     "execution_count": 181,
     "metadata": {},
     "output_type": "execute_result"
    }
   ],
   "source": [
    "km=KMeans(n_clusters=3)\n",
    "dreq[\"flower\"]=km.fit_predict(dreq)\n",
    "dreq.head()"
   ]
  },
  {
   "cell_type": "code",
   "execution_count": 149,
   "metadata": {},
   "outputs": [],
   "source": [
    "from matplotlib import pyplot as plt"
   ]
  },
  {
   "cell_type": "code",
   "execution_count": 185,
   "metadata": {},
   "outputs": [
    {
     "data": {
      "text/plain": [
       "<matplotlib.collections.PathCollection at 0x2658622b588>"
      ]
     },
     "execution_count": 185,
     "metadata": {},
     "output_type": "execute_result"
    },
    {
     "data": {
      "image/png": "[encoded data removed]",
      "text/plain": [
       "<Figure size 432x288 with 1 Axes>"
      ]
     },
     "metadata": {
      "needs_background": "light"
     },
     "output_type": "display_data"
    }
   ],
   "source": [
    "dt0=dreq[dreq.flower==0]\n",
    "dt1=dreq[dreq.flower==1]\n",
    "dt2=dreq[dreq.flower==2]\n",
    "\n",
    "plt.scatter(dt0[[\"petal length (cm)\"]],dt0[[\"petal width (cm)\"]])\n",
    "plt.scatter(dt1[[\"petal length (cm)\"]],dt1[[\"petal width (cm)\"]])\n",
    "plt.scatter(dt2[[\"petal length (cm)\"]],dt2[[\"petal width (cm)\"]])"
   ]
  },
  {
   "cell_type": "code",
   "execution_count": null,
   "metadata": {},
   "outputs": [],
   "source": []
  }
 ],
 "metadata": {
  "kernelspec": {
   "display_name": "Python 3",
   "language": "python",
   "name": "python3"
  },
  "language_info": {
   "codemirror_mode": {
    "name": "ipython",
    "version": 3
   },
   "file_extension": ".py",
   "mimetype": "text/x-python",
   "name": "python",
   "nbconvert_exporter": "python",
   "pygments_lexer": "ipython3",
   "version": "3.7.3"
  }
 },
 "nbformat": 4,
 "nbformat_minor": 2
}
