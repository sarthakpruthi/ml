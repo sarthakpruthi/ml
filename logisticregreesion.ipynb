{
 "cells": [
  {
   "cell_type": "code",
   "execution_count": 80,
   "metadata": {},
   "outputs": [],
   "source": [
    "from sklearn.datasets import load_digits"
   ]
  },
  {
   "cell_type": "code",
   "execution_count": 81,
   "metadata": {},
   "outputs": [],
   "source": [
    "digit=load_digits()"
   ]
  },
  {
   "cell_type": "code",
   "execution_count": 82,
   "metadata": {},
   "outputs": [
    {
     "data": {
      "text/plain": [
       "['DESCR', 'data', 'images', 'target', 'target_names']"
      ]
     },
     "execution_count": 82,
     "metadata": {},
     "output_type": "execute_result"
    }
   ],
   "source": [
    "dir(digit)"
   ]
  },
  {
   "cell_type": "code",
   "execution_count": 83,
   "metadata": {},
   "outputs": [],
   "source": [
    "import matplotlib.pyplot as plt"
   ]
  },
  {
   "cell_type": "code",
   "execution_count": 84,
   "metadata": {},
   "outputs": [
    {
     "data": {
      "text/plain": [
       "<matplotlib.image.AxesImage at 0x2908c0e90b8>"
      ]
     },
     "execution_count": 84,
     "metadata": {},
     "output_type": "execute_result"
    },
    {
     "data": {
      "image/png": "[encoded data removed]",
      "text/plain": [
       "<Figure size 288x288 with 1 Axes>"
      ]
     },
     "metadata": {
      "needs_background": "light"
     },
     "output_type": "display_data"
    }
   ],
   "source": [
    "plt.matshow(digit.images[0])"
   ]
  },
  {
   "cell_type": "code",
   "execution_count": 85,
   "metadata": {},
   "outputs": [],
   "source": [
    "from sklearn.model_selection import train_test_split"
   ]
  },
  {
   "cell_type": "code",
   "execution_count": 86,
   "metadata": {},
   "outputs": [],
   "source": [
    "x_train,x_test,y_train,y_test=train_test_split(digit.data,digit.target)"
   ]
  },
  {
   "cell_type": "code",
   "execution_count": 87,
   "metadata": {},
   "outputs": [],
   "source": [
    "from sklearn.linear_model import LogisticRegression"
   ]
  },
  {
   "cell_type": "code",
   "execution_count": 88,
   "metadata": {},
   "outputs": [],
   "source": [
    "lr=LogisticRegression()"
   ]
  },
  {
   "cell_type": "code",
   "execution_count": 89,
   "metadata": {},
   "outputs": [
    {
     "name": "stderr",
     "output_type": "stream",
     "text": [
      "C:\\ProgramData\\Anaconda3\\lib\\site-packages\\sklearn\\linear_model\\logistic.py:432: FutureWarning: Default solver will be changed to 'lbfgs' in 0.22. Specify a solver to silence this warning.\n",
      "  FutureWarning)\n",
      "C:\\ProgramData\\Anaconda3\\lib\\site-packages\\sklearn\\linear_model\\logistic.py:469: FutureWarning: Default multi_class will be changed to 'auto' in 0.22. Specify the multi_class option to silence this warning.\n",
      "  \"this warning.\", FutureWarning)\n"
     ]
    },
    {
     "data": {
      "text/plain": [
       "LogisticRegression(C=1.0, class_weight=None, dual=False, fit_intercept=True,\n",
       "                   intercept_scaling=1, l1_ratio=None, max_iter=100,\n",
       "                   multi_class='warn', n_jobs=None, penalty='l2',\n",
       "                   random_state=None, solver='warn', tol=0.0001, verbose=0,\n",
       "                   warm_start=False)"
      ]
     },
     "execution_count": 89,
     "metadata": {},
     "output_type": "execute_result"
    }
   ],
   "source": [
    "lr.fit(x_train,y_train)"
   ]
  },
  {
   "cell_type": "code",
   "execution_count": 90,
   "metadata": {},
   "outputs": [
    {
     "data": {
      "text/plain": [
       "0.9622222222222222"
      ]
     },
     "execution_count": 90,
     "metadata": {},
     "output_type": "execute_result"
    }
   ],
   "source": [
    "lr.score(x_test,y_test)"
   ]
  },
  {
   "cell_type": "code",
   "execution_count": 91,
   "metadata": {},
   "outputs": [
    {
     "data": {
      "text/plain": [
       "array([[49,  0,  0,  0,  0,  0,  0,  0,  0,  0],\n",
       "       [ 0, 41,  0,  0,  0,  0,  0,  0,  0,  0],\n",
       "       [ 0,  0, 41,  0,  0,  0,  0,  0,  0,  0],\n",
       "       [ 0,  0,  0, 45,  0,  3,  0,  1,  0,  0],\n",
       "       [ 0,  0,  0,  0, 51,  0,  0,  0,  0,  0],\n",
       "       [ 0,  0,  0,  0,  0, 39,  0,  0,  0,  0],\n",
       "       [ 0,  1,  0,  0,  0,  0, 42,  0,  0,  0],\n",
       "       [ 0,  1,  0,  0,  1,  0,  0, 44,  1,  2],\n",
       "       [ 0,  4,  0,  0,  0,  0,  0,  0, 41,  0],\n",
       "       [ 0,  2,  0,  0,  0,  1,  0,  0,  0, 40]], dtype=int64)"
      ]
     },
     "execution_count": 91,
     "metadata": {},
     "output_type": "execute_result"
    }
   ],
   "source": [
    "from sklearn.metrics import confusion_matrix\n",
    "cm=confusion_matrix(y_test,lr.predict(x_test))\n",
    "cm"
   ]
  },
  {
   "cell_type": "code",
   "execution_count": 92,
   "metadata": {},
   "outputs": [
    {
     "data": {
      "text/plain": [
       "7"
      ]
     },
     "execution_count": 92,
     "metadata": {},
     "output_type": "execute_result"
    }
   ],
   "source": [
    "digit.target[44]"
   ]
  },
  {
   "cell_type": "code",
   "execution_count": 94,
   "metadata": {},
   "outputs": [
    {
     "data": {
      "text/plain": [
       "array([1, 4, 1, 8, 6, 4, 4, 0, 6, 6, 8, 5, 4, 5, 6, 0, 5, 7, 7, 7, 0, 8,\n",
       "       3, 8, 7, 2, 4, 7, 9, 8, 3, 1, 2, 6, 6, 2, 1, 2, 0, 8, 7, 7, 0, 1,\n",
       "       9, 8, 6, 4, 3, 2, 8, 2, 8, 6, 6, 4, 8, 1, 3, 4, 0, 5, 9, 0, 9, 0,\n",
       "       6, 9, 6, 8, 3, 6, 5, 3, 5, 2, 4, 9, 1, 5, 6, 8, 2, 5, 4, 7, 3, 3,\n",
       "       5, 8, 8, 0, 5, 1, 0, 9, 0, 0, 0, 4, 9, 0, 6, 0, 6, 4, 0, 9, 5, 1,\n",
       "       3, 9, 9, 4, 9, 5, 3, 4, 2, 7, 9, 4, 8, 3, 6, 8, 7, 2, 7, 9, 9, 0,\n",
       "       7, 7, 9, 6, 5, 1, 4, 0, 7, 0, 0, 9, 3, 0, 4, 1, 6, 7, 0, 5, 9, 7,\n",
       "       4, 7, 8, 1, 4, 5, 5, 3, 8, 0, 4, 3, 1, 8, 0, 7, 5, 4, 7, 2, 7, 7,\n",
       "       8, 7, 8, 7, 0, 0, 3, 5, 5, 0, 0, 4, 9, 1, 1, 3, 3, 1, 1, 7, 5, 7,\n",
       "       2, 8, 4, 7, 9, 0, 5, 2, 3, 2, 5, 6, 9, 6, 5, 8, 2, 9, 2, 4, 2, 9,\n",
       "       4, 3, 6, 7, 3, 6, 1, 9, 8, 3, 7, 0, 7, 7, 5, 5, 3, 3, 3, 6, 4, 8,\n",
       "       0, 3, 0, 3, 2, 0, 4, 7, 1, 0, 2, 9, 4, 9, 9, 3, 6, 1, 4, 7, 0, 4,\n",
       "       6, 1, 0, 3, 6, 4, 3, 7, 2, 8, 3, 4, 9, 1, 7, 3, 0, 3, 0, 7, 4, 6,\n",
       "       2, 7, 1, 8, 7, 8, 2, 3, 6, 5, 6, 5, 7, 5, 3, 8, 6, 3, 1, 2, 9, 6,\n",
       "       7, 8, 7, 6, 4, 4, 3, 1, 2, 5, 8, 4, 1, 1, 0, 1, 2, 1, 3, 2, 6, 9,\n",
       "       2, 9, 4, 8, 8, 5, 8, 8, 3, 9, 9, 2, 3, 0, 0, 2, 9, 5, 5, 0, 1, 2,\n",
       "       4, 8, 1, 2, 3, 6, 4, 1, 3, 4, 2, 7, 7, 1, 3, 6, 9, 8, 2, 9, 8, 1,\n",
       "       0, 1, 1, 8, 3, 8, 6, 1, 1, 5, 2, 5, 3, 4, 6, 4, 2, 3, 5, 0, 2, 5,\n",
       "       7, 3, 5, 9, 6, 0, 7, 6, 1, 8, 2, 4, 0, 4, 2, 9, 2, 8, 7, 9, 9, 0,\n",
       "       1, 4, 3, 8, 7, 4, 6, 4, 4, 9, 5, 6, 1, 8, 6, 7, 2, 6, 7, 9, 4, 3,\n",
       "       7, 4, 2, 4, 0, 8, 0, 3, 9, 5])"
      ]
     },
     "execution_count": 94,
     "metadata": {},
     "output_type": "execute_result"
    }
   ],
   "source": [
    "lr.predict(d.data[y_test])"
   ]
  },
  {
   "cell_type": "code",
   "execution_count": null,
   "metadata": {},
   "outputs": [],
   "source": []
  },
  {
   "cell_type": "code",
   "execution_count": null,
   "metadata": {},
   "outputs": [],
   "source": []
  }
 ],
 "metadata": {
  "kernelspec": {
   "display_name": "Python 3",
   "language": "python",
   "name": "python3"
  },
  "language_info": {
   "codemirror_mode": {
    "name": "ipython",
    "version": 3
   },
   "file_extension": ".py",
   "mimetype": "text/x-python",
   "name": "python",
   "nbconvert_exporter": "python",
   "pygments_lexer": "ipython3",
   "version": "3.7.3"
  }
 },
 "nbformat": 4,
 "nbformat_minor": 2
}
